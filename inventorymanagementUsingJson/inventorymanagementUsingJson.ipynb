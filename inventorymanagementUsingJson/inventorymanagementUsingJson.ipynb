{
 "cells": [
  {
   "cell_type": "code",
   "execution_count": 3,
   "id": "d22868af-33aa-48b1-99b0-bd1915a560a0",
   "metadata": {},
   "outputs": [
    {
     "name": "stdout",
     "output_type": "stream",
     "text": [
      "------------------MENU------------------\n",
      "1001 : 5 star \t| 10 \t| 0\n",
      "1002 : Bar-One \t| 20 \t| 10\n",
      "1003 : Candy \t| 2 \t| 190\n",
      "1004 : Chocolate Cake \t| 550 \t| 6\n",
      "1005 : BlueBerry Cake \t| 650 \t| 5\n",
      "----------------------------------------\n",
      "\n"
     ]
    },
    {
     "name": "stdin",
     "output_type": "stream",
     "text": [
      "Enter Name:  Aman Kumar\n",
      "Enter Phone no:  243937973923\n",
      "Enter product Id:  1003\n",
      "Enter Quantity :  2\n"
     ]
    },
    {
     "name": "stdout",
     "output_type": "stream",
     "text": [
      "----------------------------------------\n",
      "\n",
      "                 BILL                   \n",
      "Product Name :  Candy\n",
      "Price        :  2\n",
      "Quantity     :  2\n",
      "----------------------------------------\n",
      "\n",
      "Billing Amount: 4\n",
      "----------------------------------------\n",
      "\n"
     ]
    }
   ],
   "source": [
    "import json\n",
    "import time\n",
    "import os\n",
    "fd = open(\"Record.json\",\"r\")\n",
    "js = fd.read()\n",
    "# print(type(js)) str\n",
    "record = json.loads(js)\n",
    "# print(type(record)) dict \n",
    "sale =\"\" \n",
    "time = time.ctime();\n",
    "\n",
    "print(\"------------------MENU------------------\")\n",
    "for i in record.keys():\n",
    "    print(i ,\":\",record[i][\"Name\"],\"\\t|\",record[i][\"Price\"],\"\\t|\",record[i][\"Qn\"])\n",
    "print(\"----------------------------------------\\n\")\n",
    "Name = input(\"Enter Name: \")\n",
    "Phone = input(\"Enter Phone no: \")\n",
    "p_Id = str(input(\"Enter product Id: \" ))\n",
    "U_Qn = int(input(\"Enter Quantity : \" ))\n",
    "if(record[p_Id][\"Qn\"] >= U_Qn):\n",
    "    record[p_Id][\"Qn\"] = record[p_Id][\"Qn\"] - U_Qn\n",
    "    \n",
    "    Bill = U_Qn * record[p_Id][\"Price\"]\n",
    "    print(\"----------------------------------------\\n\")\n",
    "    print(\"                 BILL                   \")\n",
    "    print(\"Product Name : \",record[p_Id][\"Name\"])\n",
    "    print(\"Price        : \",record[p_Id][\"Price\"])\n",
    "    print(\"Quantity     : \",U_Qn)\n",
    "    print(\"----------------------------------------\\n\")\n",
    "    print(\"Billing Amount:\",Bill)\n",
    "    print(\"----------------------------------------\\n\")\n",
    "    sale = Name+\",\"+Phone+\",\"+record[p_Id][\"Name\"]+\",\"+str(U_Qn)+\",\"+str(Bill)+\",\"+time\n",
    "else:\n",
    "    print(\"Sorry we are not having enough quantity! \")\n",
    "    print(\"Left quantity: \" ,record[p_Id][\"Qn\"])\n",
    "    a = input(\"if you want to purchase remaining press Y or purchasing less than remaining press L\" )\n",
    "    if (a=='y' or a== 'Y'):\n",
    "    \n",
    "        Bill = record[p_Id][\"Qn\"] * record[p_Id][\"Price\"]\n",
    "        print(\"----------------------------------------\\n\")\n",
    "        print(\"                 BILL                   \")\n",
    "        print(\"Product Name : \",record[p_Id][\"Name\"])\n",
    "        print(\"Price        : \",record[p_Id][\"Price\"])\n",
    "        print(\"Quantity     : \",record[p_Id][\"Qn\"] )\n",
    "        print(\"----------------------------------------\\n\")\n",
    "        print(\"Billing Amount:\",Bill)\n",
    "        print(\"----------------------------------------\\n\")\n",
    "        sale = Name+\",\"+Phone+\",\"+record[p_Id][\"Name\"]+\",\"+str(record[p_Id][\"Qn\"])+\",\"+str(Bill)+\",\"+time\n",
    "        record[p_Id][\"Qn\"] = 0\n",
    "    elif (a=='l' or a== 'L'):\n",
    "        \n",
    "      \n",
    "        U_Qn = int(input(\"Enter Quantity : \" ))\n",
    "        if(record[p_Id][\"Qn\"] >= U_Qn):\n",
    "            record[p_Id][\"Qn\"] = record[p_Id][\"Qn\"] - U_Qn\n",
    "            \n",
    "            Bill = U_Qn* record[p_Id][\"Price\"]\n",
    "            print(\"----------------------------------------\\n\")\n",
    "            print(\"                 BILL                   \")\n",
    "            print(\"Product Name : \",record[p_Id][\"Name\"])\n",
    "            print(\"Price        : \",record[p_Id][\"Price\"])\n",
    "            print(\"Quantity     : \",U_Qn)\n",
    "            print(\"----------------------------------------\\n\")\n",
    "            print(\"Billing Amount:\",Bill)\n",
    "            print(\"----------------------------------------\\n\")\n",
    "            sale = Name+\",\"+Phone+\",\"+record[p_Id][\"Name\"]+\",\"+str(U_Qn)+\",\"+str(Bill)+\",\"+time\n",
    "        else:\n",
    "            print(\"thanks\")\n",
    "            \n",
    "            \n",
    "    \n",
    "    \n",
    "    else:\n",
    "        print(\"thanks\")\n",
    "js = json.dumps(record)\n",
    "fd = open(\"Record.json\",\"w\")\n",
    "fd.write(js)\n",
    "fd.close()\n",
    "\n",
    "\n",
    "fd = open(\"Sale.txt\",\"a\")\n",
    "fd.write(sale)\n",
    "fd.close()\n",
    "\n",
    "\n",
    "\n",
    "    "
   ]
  },
  {
   "cell_type": "code",
   "execution_count": null,
   "id": "d3cfe728-fb74-4276-9f80-2560d3d1f5c8",
   "metadata": {},
   "outputs": [],
   "source": []
  },
  {
   "cell_type": "code",
   "execution_count": null,
   "id": "615f87ff-6c47-4299-bd50-1625dc0bda8a",
   "metadata": {},
   "outputs": [],
   "source": []
  },
  {
   "cell_type": "code",
   "execution_count": 32,
   "id": "f9f9673c-32b5-4803-82f2-369ae870f931",
   "metadata": {},
   "outputs": [],
   "source": []
  },
  {
   "cell_type": "code",
   "execution_count": null,
   "id": "c0913605-9580-48c6-a884-b28bd6a1df2b",
   "metadata": {},
   "outputs": [],
   "source": []
  },
  {
   "cell_type": "code",
   "execution_count": null,
   "id": "3fad8627-8d99-4b24-903c-dee415fbeb19",
   "metadata": {},
   "outputs": [],
   "source": []
  },
  {
   "cell_type": "code",
   "execution_count": null,
   "id": "56a63d00-1a9b-435f-9553-c34f53d981f0",
   "metadata": {},
   "outputs": [],
   "source": []
  }
 ],
 "metadata": {
  "kernelspec": {
   "display_name": "Python 3 (ipykernel)",
   "language": "python",
   "name": "python3"
  },
  "language_info": {
   "codemirror_mode": {
    "name": "ipython",
    "version": 3
   },
   "file_extension": ".py",
   "mimetype": "text/x-python",
   "name": "python",
   "nbconvert_exporter": "python",
   "pygments_lexer": "ipython3",
   "version": "3.11.7"
  }
 },
 "nbformat": 4,
 "nbformat_minor": 5
}
