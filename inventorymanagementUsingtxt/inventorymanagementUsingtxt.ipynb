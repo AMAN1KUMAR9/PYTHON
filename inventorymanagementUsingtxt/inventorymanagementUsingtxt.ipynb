{
 "cells": [
  {
   "cell_type": "code",
   "execution_count": 3,
   "id": "ea028d9a-caea-46fa-a0ce-9995a3a7e6af",
   "metadata": {},
   "outputs": [],
   "source": [
    "fd = open(\"inventory.txt\",\"w\")\n",
    "fd.close()"
   ]
  },
  {
   "cell_type": "markdown",
   "id": "43496357-dcc0-4a87-905d-306e70bba787",
   "metadata": {},
   "source": [
    "## product details\n",
    "1. product id\n",
    "3. product name\n",
    "2. product price \n",
    "4. product quantity\n"
   ]
  },
  {
   "cell_type": "code",
   "execution_count": 91,
   "id": "d214f288-e3df-4c6e-b7c1-184241323990",
   "metadata": {},
   "outputs": [],
   "source": [
    "import time\n",
    "time = time.ctime()\n",
    "fd = open(\"inventory.txt\",\"r\")\n",
    "txt = fd.read()\n",
    "p = txt.split(\"\\n\")\n",
    "# print(p)\n",
    "# for pr in p:\n",
    "#     pr = pr.split(\",\")\n",
    "#     if(pr[0] == 1 or pr[0] ==\"1\"):\n",
    "#         print(pr)\n",
    "\n",
    "# print(txt)\n",
    "# for i in fd:\n",
    "#     print(i[0])\n",
    "fd.close()"
   ]
  },
  {
   "cell_type": "code",
   "execution_count": 93,
   "id": "392f7125-3b74-46e4-817a-3e6d842460b2",
   "metadata": {},
   "outputs": [
    {
     "name": "stdout",
     "output_type": "stream",
     "text": [
      "1,5 Star,5,100\n",
      "2,Milky Bar,5,91\n",
      "3,Cake,300,5\n",
      "4,Candy,1,2000\n"
     ]
    }
   ],
   "source": [
    "print(txt)"
   ]
  },
  {
   "cell_type": "code",
   "execution_count": 95,
   "id": "62c309d1-9e7b-415c-838e-af0ef56460e3",
   "metadata": {},
   "outputs": [
    {
     "name": "stdout",
     "output_type": "stream",
     "text": [
      "['1,5 Star,5,100', '2,Milky Bar,5,91', '3,Cake,300,5', '4,Candy,1,2000']\n",
      "1,5 Star,5,100\n",
      "2,Milky Bar,5,91\n",
      "3,Cake,300,5\n",
      "4,Candy,1,2000\n"
     ]
    }
   ],
   "source": [
    "product_details = txt.split(\"\\n\")\n",
    "print(product_details)\n",
    "for i in product_details:\n",
    "    print(i)\n"
   ]
  },
  {
   "cell_type": "code",
   "execution_count": 97,
   "id": "93ca5c6e-6f78-48ed-9a76-c09c1cc23479",
   "metadata": {},
   "outputs": [
    {
     "name": "stdin",
     "output_type": "stream",
     "text": [
      "Enter the name:  Aman\n",
      "Enter number:  9340342037\n",
      "Enter the product id:  1\n",
      "Enter the product quantity:  200\n",
      "press y/N for remaining purchase: y\n"
     ]
    },
    {
     "name": "stdout",
     "output_type": "stream",
     "text": [
      "----------------------------------------\n",
      "product name:  5 Star\n",
      "product price:  5\n",
      "product quantity:  100\n",
      "----------------------------------------\n",
      "biling amount:  500\n",
      "----------------------------------------\n",
      "[['1', '5 Star', '5', '0'], ['2', 'Milky Bar', '5', '91'], ['3', 'Cake', '300', '5'], ['4', 'Candy', '1', '2000']]\n"
     ]
    }
   ],
   "source": [
    "username = input(\"Enter the name: \")\n",
    "phoneNo = input(\"Enter number: \")\n",
    "product_id = input(\"Enter the product id: \")\n",
    "user_quantity = input(\"Enter the product quantity: \")\n",
    "\n",
    "updated_lst = []\n",
    "for product in product_details:\n",
    "    pro_det = product.split(\",\")\n",
    "    if(pro_det[0] == product_id):\n",
    "        if(int(pro_det[3] )>= int(user_quantity)):\n",
    "            print(\"----------------------------------------\")\n",
    "            print(\"product name: \",pro_det[1])\n",
    "            print(\"product price: \",pro_det[2])\n",
    "            print(\"product quantity: \",user_quantity)\n",
    "            print(\"----------------------------------------\")\n",
    "            bill = int(user_quantity)*int(pro_det[2])\n",
    "            print(\"biling amount: \",int(user_quantity)*int(pro_det[2]))\n",
    "            print(\"----------------------------------------\")\n",
    "            pro_det[3] = str(int(pro_det[3]) - int(user_quantity))\n",
    "            \n",
    "        else:\n",
    "            a = input(\"press y/N for remaining purchase:\" )\n",
    "                      \n",
    "            if (a == 'y' or a == 'Y'):\n",
    "                print(\"----------------------------------------\")\n",
    "                print(\"product name: \",pro_det[1])\n",
    "                print(\"product price: \",pro_det[2])\n",
    "                print(\"product quantity: \",pro_det[3])\n",
    "                print(\"----------------------------------------\")\n",
    "                bill = int(pro_det[3])*int(pro_det[2])\n",
    "                print(\"biling amount: \",int(pro_det[3])*int(pro_det[2]))\n",
    "                print(\"----------------------------------------\")\n",
    "                pro_det[3] ='0'\n",
    "            else:\n",
    "                print(\"thanks\")\n",
    "        customer_details = username +\",\"+phoneNo +\",\" + product_id +\",\"+pro_det[1] +\",\" +str(bill)+\",\"+time+\"\\n\"\n",
    "        fd = open(\"sales.txt\",\"a\")\n",
    "        fd.write(customer_details)\n",
    "        fd.close()\n",
    "        \n",
    "    updated_lst.append(pro_det)\n",
    "print(updated_lst)\n",
    "        "
   ]
  },
  {
   "cell_type": "code",
   "execution_count": 101,
   "id": "a74920c6-5f49-418c-a251-b6836b446d73",
   "metadata": {},
   "outputs": [
    {
     "name": "stdout",
     "output_type": "stream",
     "text": [
      "['1,5 Star,5,0\\n', '2,Milky Bar,5,91\\n', '3,Cake,300,5\\n', '4,Candy,1,2000']\n"
     ]
    }
   ],
   "source": [
    "fd = open(\"inventory.txt\",\"w\")\n",
    "lst = []\n",
    "for i in updated_lst:\n",
    "    s = i[0]+\",\"+i[1]+\",\"+i[2]+\",\"+i[3]+\"\\n\"\n",
    "    lst.append(s)\n",
    "lst[-1] = lst[-1][:-1]\n",
    "print(lst)\n",
    "\n",
    "fd.writelines(lst)"
   ]
  },
  {
   "cell_type": "code",
   "execution_count": null,
   "id": "0e8c0cd4-4fa4-4af2-9f67-764df3ab3f0e",
   "metadata": {},
   "outputs": [],
   "source": []
  }
 ],
 "metadata": {
  "kernelspec": {
   "display_name": "Python 3 (ipykernel)",
   "language": "python",
   "name": "python3"
  },
  "language_info": {
   "codemirror_mode": {
    "name": "ipython",
    "version": 3
   },
   "file_extension": ".py",
   "mimetype": "text/x-python",
   "name": "python",
   "nbconvert_exporter": "python",
   "pygments_lexer": "ipython3",
   "version": "3.11.7"
  }
 },
 "nbformat": 4,
 "nbformat_minor": 5
}
